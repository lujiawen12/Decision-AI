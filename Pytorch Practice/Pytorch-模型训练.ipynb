{
 "cells": [
  {
   "cell_type": "markdown",
   "id": "949bceb4",
   "metadata": {},
   "source": [
    "# 机器学习Intro"
   ]
  },
  {
   "cell_type": "markdown",
   "id": "e3d0ebaa",
   "metadata": {},
   "source": [
    "* 机器学习（深度学习）：把人类归纳经验的过程，转化为由计算机自己来归纳总结的过程。机器学习是一种通过利用数据，训练出模型，然后使用模型预测的一种方法\n",
    "* 有监督学习 & 无监督学习：区别在于训练过程中是否使用数据真实的标签\n",
    "* 模型训练本质：1）数据处理：主要包括数据清理、数据预处理、数据增强等，构建让模型使用的训练集和验证集；2）模型训练：确定网络结构，确定损失函数与设置优化方法；3）模型评估：使用各种评估指标来评估模型的好坏\n",
    "* 模型训练部分：1）模型结构设计：例如机器学习中回归算法、SVM等，深度学习中的VGG、ResNet等；2）给定损失函数：损失函数衡量的是当前模型预测结果与真实标签之间的差距；3）给定优化方法：与损失函数搭配，更新模型中的参数"
   ]
  },
  {
   "cell_type": "markdown",
   "id": "e509504f",
   "metadata": {},
   "source": [
    "常见名词\n",
    "* Epoch：用所有数据训练一遍就是一个Epoch\n",
    "* Step：受硬件设备限制，训练时不会一次性读入所有数据，而是一次读入一部分进行训练（Step），每次读入的数据量就是batch_size"
   ]
  },
  {
   "cell_type": "markdown",
   "id": "a8db6f5d",
   "metadata": {},
   "source": [
    "# Torchvision"
   ]
  },
  {
   "cell_type": "markdown",
   "id": "3abc5e21",
   "metadata": {},
   "source": [
    "## PyTorch中的数据读取"
   ]
  },
  {
   "cell_type": "markdown",
   "id": "ffad8906",
   "metadata": {},
   "source": [
    "**Dataset类和DataLoader类**"
   ]
  },
  {
   "cell_type": "markdown",
   "id": "bcbc2cb4",
   "metadata": {},
   "source": [
    "### Dataset类"
   ]
  },
  {
   "cell_type": "markdown",
   "id": "090f6725",
   "metadata": {},
   "source": [
    "PyTorch 中的 Dataset 类是一个抽象类，它可以用来表示数据集\n",
    "\n",
    "通过继承 Dataset 类来自定义数据集的格式、大小和其它属性，后面就可以供 DataLoader 类直接使用\n",
    "\n",
    "在继承 Dataset 类时，至少需要重写以下几个方法：\n",
    "* __init__()：构造函数，可自定义数据读取方法以及进行数据预处理\n",
    "* __len__()：返回数据集大小\n",
    "* __getitem__()：索引数据集中的某一个数据"
   ]
  },
  {
   "cell_type": "code",
   "execution_count": null,
   "id": "41a7a428",
   "metadata": {},
   "outputs": [],
   "source": [
    "import torch\n",
    "from torch.utils.data import Dataset\n",
    "\n",
    "# 自定义一个名称为MyDataset的数据集（继承pytorch内置的Dataset类）\n",
    "class MyDataset(Dataset):\n",
    "    # 上文说的重写构造函数（输入2个tensor类型的参数：数据/数据集合，数据对应的标签/集合）\n",
    "    def __init__(self, data_tensor, target_tensor):\n",
    "        self.data_tensor = data_tensor        \n",
    "        self.target_tensor = target_tensor\n",
    "        \n",
    "    # 上文说的重写len方法：返回数据集大小\n",
    "    def __len__(self):\n",
    "        return self.data_tensor.size(0)  # 一般情况输进来的数据都是集合\n",
    "    \n",
    "    # 上文提到的重写getitem方法：基于索引，返回对应的数据及其标签，组合成1个元组返回\n",
    "    def __getitem__(self, index):\n",
    "        return self.data_tensor[index], self.target_tensor[index]"
   ]
  },
  {
   "cell_type": "code",
   "execution_count": null,
   "id": "81c9c506",
   "metadata": {},
   "outputs": [],
   "source": [
    "# 生成数据集和标签集 （数据元素长度=标签元素长度）\n",
    "data_tensor = torch.randn(10, 3)        # 10行3列数据，可以理解为10个元素，每个元素个一维的3个元素列表\n",
    "target_tensor = torch.randint(2, (10,)) # 标签是0或1的10个元素   # 对应语法：torch.randint(low, high, size）\n",
    "\n",
    "# 将数据封装成自定义数据集的Dataset\n",
    "my_dataset = MyDataset(data_tensor, target_tensor)\n",
    "\n",
    "# 调用方法：查看数据集大小\n",
    "print('Dataset size:', len(my_dataset))\n",
    "\n",
    "# 使用索引调用数据\n",
    "print('tensor_data[0]: ', my_dataset[0])"
   ]
  },
  {
   "cell_type": "markdown",
   "id": "a4dadec0",
   "metadata": {},
   "source": [
    "###  DataLoader 类"
   ]
  },
  {
   "cell_type": "markdown",
   "id": "c28a978e",
   "metadata": {},
   "source": [
    "在实际项目中，如果数据量很大，考虑到内存有限、I/O 速度等问题，在训练过程中不可能一次性的将所有数据全部加载到内存中，也不能只用一个进程去加载，所以就需要多进程、迭代加载，而 DataLoader 就是基于这些需要被设计出来的。\n",
    "\n",
    "DataLoader 是一个迭代器，最基本的使用方法就是传入一个 Dataset 对象，它会根据参数 batch_size 的值生成一个 batch 的数据，节省内存的同时，它还可以实现多进程、数据打乱等处理。\n",
    "\n",
    "```\n",
    "from torch.utils.data import DataLoader\n",
    "tensor_dataloader = DataLoader(dataset=xxx,  # 传入的数据集, 必须参数，必须是Dataset 类型\n",
    "                     batch_size=x,  # int 类型，每个 batch 有多少个样本\n",
    "                     shuffle=x,    # bool 类型，在每个 epoch 开始的时候，是否对数据进行重新打乱；\n",
    "                     num_workers=x)  # int 类型，加载数据的进程数，0 意味着所有的数据都会被加载进主进程，默认为 0\n",
    "\n",
    "```"
   ]
  },
  {
   "cell_type": "code",
   "execution_count": null,
   "id": "45e2c52b",
   "metadata": {},
   "outputs": [],
   "source": [
    "from torch.utils.data import DataLoader\n",
    "\n",
    "# 创建一个迭代器，数据集是上文自定义的数据集MyDataset，每次只导入2个大小的数据\n",
    "tensor_dataloader = DataLoader(dataset=my_dataset, # 传入的数据集, 必须参数\n",
    "                               batch_size=2,       # 输出的batch大小\n",
    "                               shuffle=True,       # 数据是否打乱\n",
    "                               num_workers=0)      # 进程数, 0表示只有主进程\n",
    "\n",
    "# 输出所有：以循环形式输出每次迭代的所有数据（意味着：一共10个元素，5此就结束了）\n",
    "for data, target in tensor_dataloader: \n",
    "    print(data, target)\n",
    "       \n",
    "# 输出一个batch\n",
    "print('One batch tensor data: ', iter(tensor_dataloader).__next__())"
   ]
  },
  {
   "cell_type": "markdown",
   "id": "48320e7f",
   "metadata": {},
   "source": [
    "## Torchvision介绍 "
   ]
  },
  {
   "cell_type": "markdown",
   "id": "3255f326",
   "metadata": {},
   "source": [
    "Torchvision 是一个和 PyTorch 配合使用的 Python 包。它不只提供了一些常用数据集，还提供了几个已经搭建好的经典网络模型，以及集成了一些图像数据处理方面的工具，主要供数据预处理阶段使用。简单地说，**Torchvision 库就是常用数据集 + 常见网络模型 + 常用图像处理方法**。"
   ]
  },
  {
   "cell_type": "code",
   "execution_count": null,
   "id": "ab8c8d51",
   "metadata": {},
   "outputs": [],
   "source": [
    "import torchvision"
   ]
  },
  {
   "cell_type": "markdown",
   "id": "57c8cd56",
   "metadata": {},
   "source": [
    "### 数据读取—MNIST数据集 测试"
   ]
  },
  {
   "cell_type": "code",
   "execution_count": null,
   "id": "833385c3",
   "metadata": {},
   "outputs": [],
   "source": [
    "import torchvision\n",
    "mnist_dataset = torchvision.datasets.MNIST(root='./data',\n",
    "                                       train=True,\n",
    "                                       transform=None,\n",
    "                                       target_transform=None,\n",
    "                                       download=True)"
   ]
  },
  {
   "cell_type": "code",
   "execution_count": null,
   "id": "04521a28",
   "metadata": {},
   "outputs": [],
   "source": [
    "# 转化成list\n",
    "mnist_dataset_list = list(mnist_dataset)"
   ]
  },
  {
   "cell_type": "code",
   "execution_count": null,
   "id": "0075d4d4",
   "metadata": {},
   "outputs": [],
   "source": [
    "# 显示数据列表中的图片\n",
    "display(mnist_dataset_list[0][0])\n",
    "print(\"Image label is:\", mnist_dataset_list[0][1]) "
   ]
  },
  {
   "cell_type": "code",
   "execution_count": null,
   "id": "8f03b89f",
   "metadata": {},
   "outputs": [],
   "source": [
    "print(len(mnist_dataset_list))"
   ]
  },
  {
   "cell_type": "markdown",
   "id": "8782eccf",
   "metadata": {},
   "source": [
    "### 数据处理"
   ]
  },
  {
   "cell_type": "markdown",
   "id": "19b17af9",
   "metadata": {},
   "source": [
    "torchvision.transforms（图像处理工具）基本介绍\n",
    "\n",
    "Torchvision 库中的torchvision.transforms包中提供了常用的图像操作，包括对 Tensor 及 PIL Image 对象的操作，例如随机切割、旋转、数据类型转换等等\n",
    "\n",
    "按照torchvision.transforms 的功能，大致分为以下几类：数据类型转换、对 PIL.Image 和 Tensor 进行变化和变换的组合"
   ]
  },
  {
   "cell_type": "markdown",
   "id": "4aa297d1",
   "metadata": {},
   "source": [
    "#### 数据类型转换"
   ]
  },
  {
   "cell_type": "markdown",
   "id": "994d2a1d",
   "metadata": {},
   "source": [
    "* transforms.ToTensor()\n",
    "\n",
    "将 PIL.Image 或 Numpy.ndarray 格式的数据转化为 Tensor 格式。\n",
    "\n",
    "* transforms.ToPILImage(mode=None)\n",
    "\n",
    "将 Tensor 或 Numpy.ndarray 格式的数据转化为 PIL.Image 格式。其中参数 mode 代表 PIL.Image 的模式，如果 mode 为 None（默认值），则根据输入数据的维度进行推断：输入为 3 通道：mode 为’RGB’；输入为 4 通道：mode 为’RGBA’；输入为 2 通道：mode 为’LA’；输入为单通道：mode 根据输入数据的类型确定具体模式"
   ]
  },
  {
   "cell_type": "code",
   "execution_count": null,
   "id": "603ef02c",
   "metadata": {},
   "outputs": [],
   "source": [
    "from PIL import Image\n",
    "from torchvision import transforms \n",
    "\n",
    "img = Image.open('source/jikeshijian_logo.png') \n",
    "display(img)\n",
    "print(type(img)) # PIL.Image.Image是PIL.JpegImagePlugin.JpegImageFile的基类\n",
    "\n",
    "# PIL.Image转换为Tensor\n",
    "img_tensor = transforms.ToTensor()(img)\n",
    "print(type(img_tensor))\n",
    "print(img_tensor.shape)\n",
    "\n",
    "# Tensor转换为PIL.Image\n",
    "img2 = transforms.ToPILImage()(img_tensor)  #PIL.Image.Image\n",
    "print(type(img2))"
   ]
  },
  {
   "cell_type": "markdown",
   "id": "fa4c6050",
   "metadata": {},
   "source": [
    "#### 对PIL.Image和Tensor进行变换"
   ]
  },
  {
   "cell_type": "markdown",
   "id": "cafbc019",
   "metadata": {},
   "source": [
    "torchvision.transforms 提供了丰富的图像变换方法，例如：改变尺寸、剪裁、翻转等。并且这些图像变换操作可以接收多种数据格式，不仅可以直接对 PIL 格式的图像进行变换，也可以对 Tensor 进行变换，无需再去做额外的数据类型转换"
   ]
  },
  {
   "cell_type": "markdown",
   "id": "cb6cabe8",
   "metadata": {},
   "source": [
    "**Resize**"
   ]
  },
  {
   "cell_type": "markdown",
   "id": "1e240f30",
   "metadata": {},
   "source": [
    "将输入的PIL Image或Tensor尺寸调整为给定的尺寸，具体定义为：\n",
    "\n",
    "torchvision.transforms.Resize(size, interpolation=2)(PIL Image对象/tensor对象)\n",
    "\n",
    "size：期望输出的尺寸。如果 size 是一个像 (h, w) 这样的元组，则图像输出尺寸将与之匹配。如果 size 是一个 int 类型的整数，图像较小的边将被匹配到该整数，另一条边按比例缩放。\n",
    "\n",
    "interpolation：插值算法，int 类型，默认为 2，表示 PIL.Image.BILINEAR。"
   ]
  },
  {
   "cell_type": "code",
   "execution_count": null,
   "id": "fc11db11",
   "metadata": {},
   "outputs": [],
   "source": [
    "from PIL import Image\n",
    "from torchvision import transforms \n",
    "\n",
    "# 原图\n",
    "orig_img = Image.open('source/jikeshijian_logo.png') \n",
    "print('原图大小:',orig_img.size)\n",
    "display(orig_img)\n",
    "\n",
    "# Resize操作后的图\n",
    "# 定义一个Resize操作\n",
    "resize_img_oper = transforms.Resize((80), interpolation=2)\n",
    "img = resize_img_oper(orig_img)\n",
    "print('resize图大小:',img.size)\n",
    "display(img)"
   ]
  },
  {
   "cell_type": "markdown",
   "id": "1fac2a82",
   "metadata": {},
   "source": [
    "**剪裁**"
   ]
  },
  {
   "cell_type": "markdown",
   "id": "3d045dcf",
   "metadata": {},
   "source": [
    "torchvision.transforms提供了多种剪裁方法，例如中心剪裁、随机剪裁、四角和中心剪裁等\n",
    "\n",
    "* 中心裁剪：在中心裁剪指定的 PIL Image 或 Tensor\n",
    "\n",
    "torchvision.transforms.CenterCrop(size)(PIL Image对象/tensor对象)\n",
    "size 表示期望输出的剪裁尺寸。如果 size 是一个像 (h, w) 这样的元组，则剪裁后的图像尺寸将与之匹配。如果 size 是 int 类型的整数，剪裁出来的图像是 (size, size) 的正方形。\n",
    "\n",
    "* 随机剪裁：就是在一个随机位置剪裁指定的 PIL Image 或 Tensor\n",
    "\n",
    "torchvision.transforms.RandomCrop(size, padding=None)(PIL Image对象/tensor对象)\n",
    "\n",
    "* FiveCrop：将给定的 PIL Image 或 Tensor ，分别从四角和中心进行剪裁，共剪裁成五块\n",
    "\n",
    "torchvision.transforms.FiveCrop(size)(PIL Image对象/tensor对象)"
   ]
  },
  {
   "cell_type": "code",
   "execution_count": null,
   "id": "f4dd1dd2",
   "metadata": {},
   "outputs": [],
   "source": [
    "from PIL import Image\n",
    "from torchvision import transforms \n",
    "\n",
    "# 原图\n",
    "orig_img = Image.open('source/jikeshijian_logo.png') \n",
    "display(orig_img)\n",
    "\n",
    "# 中心剪裁\n",
    "img1 = transforms.CenterCrop((60,100))(orig_img)\n",
    "display(img1)\n",
    "\n",
    "# 随机剪裁\n",
    "img2 = transforms.RandomCrop((80,80))(orig_img)\n",
    "display(img2)\n",
    "\n",
    "# 四角和中心剪裁\n",
    "imgs = transforms.FiveCrop((60,70))(orig_img)\n",
    "for img in imgs:\n",
    "    display(img)"
   ]
  },
  {
   "cell_type": "markdown",
   "id": "613d0d52",
   "metadata": {},
   "source": [
    "**翻转**"
   ]
  },
  {
   "cell_type": "markdown",
   "id": "55f36d29",
   "metadata": {},
   "source": [
    "torchvision.transforms提供了两种翻转操作，分别是：以某一概率随机水平翻转图像和以某一概率随机垂直翻转图像。\n",
    "\n",
    "* 以概率 p 随机水平翻转图像\n",
    "\n",
    "torchvision.transforms.RandomHorizontalFlip(p=0.5)(PIL Image对象/tensor对象)\n",
    "\n",
    "* 以概率 p 随机垂直翻转图像\n",
    "\n",
    "torchvision.transforms.RandomVerticalFlip(p=0.5)(PIL Image对象/tensor对象)\n",
    "p 表示随机翻转的概率值，默认为 0.5。\n",
    "\n",
    "随机翻转，是为数据增强提供方便。如果想要必须执行翻转操作的话，将 p 设置为 1 即可。"
   ]
  },
  {
   "cell_type": "code",
   "execution_count": null,
   "id": "0ba205d7",
   "metadata": {},
   "outputs": [],
   "source": [
    "from PIL import Image\n",
    "from torchvision import transforms \n",
    "\n",
    "# 原图\n",
    "orig_img = Image.open('source/jikeshijian_logo.png') \n",
    "display(orig_img)\n",
    "\n",
    "# 水平翻转\n",
    "img_L = transforms.RandomHorizontalFlip(p=1)(orig_img)\n",
    "display(img_L)\n",
    "\n",
    "# 垂直翻转\n",
    "img_V = transforms.RandomVerticalFlip(p=1)(orig_img)\n",
    "display(img_V)"
   ]
  },
  {
   "cell_type": "markdown",
   "id": "1020338e",
   "metadata": {},
   "source": [
    "#### 只对Tensor进行变换"
   ]
  },
  {
   "cell_type": "markdown",
   "id": "b7983ff8",
   "metadata": {},
   "source": [
    "目前版本的 Torchvision（v0.10.0）对各种图像变换操作已经基本同时支持 PIL Image 和 Tensor 类型，因此只针对 Tensor 的变换操作很少，只有 4 个，分别是 LinearTransformation（线性变换）、Normalize（标准化）、RandomErasing（随机擦除）、ConvertImageDtype（格式转换）。这里重点看最常用的一个操作：标准化"
   ]
  },
  {
   "cell_type": "markdown",
   "id": "37153271",
   "metadata": {},
   "source": [
    "**标准化**"
   ]
  },
  {
   "cell_type": "markdown",
   "id": "33376d22",
   "metadata": {},
   "source": [
    "标准化是指每一个数据点减去所在通道的平均值，再除以所在通道的标准差，数学的计算公式如下：\n",
    "\n",
    "output=(input−mean)/std\n",
    "\n",
    "说明1：三维数据的前2维，可以说是长宽（面积大小），第三维习惯称之为通道\n",
    "\n",
    "说明2：对图像进行标准化，就是对图像的每个通道利用均值和标准差进行正则化。这样做的目的，是为了保证数据集中所有的图像分布都相似，这样在训练的时候更容易收敛，既加快了训练速度，也提高了训练效果。\n",
    "\n",
    "说明3：标准化是一个常规做法，可以理解为无脑进行标准化后再训练的效果，大概率要好于不进行标准化。"
   ]
  },
  {
   "cell_type": "markdown",
   "id": "ea3d5175",
   "metadata": {},
   "source": [
    "torchvision.transforms中对 Tensor 的标准化操作函数\n",
    "\n",
    "torchvision.transforms.Normalize(mean, std, inplace=False)(tensor对象)\n",
    "\n",
    "mean：表示各通道的均值；\n",
    "\n",
    "std：表示各通道的标准差；\n",
    "\n",
    "inplace：表示是否原地操作，默认为否。"
   ]
  },
  {
   "cell_type": "code",
   "execution_count": null,
   "id": "d1067f27",
   "metadata": {},
   "outputs": [],
   "source": [
    "from PIL import Image\n",
    "from torchvision import transforms \n",
    "\n",
    "# 原图\n",
    "orig_img = Image.open('source/jikeshijian_logo.png') \n",
    "display(orig_img)\n",
    "\n",
    "# 图像转化为Tensor\n",
    "img_tensor = transforms.ToTensor()(orig_img)\n",
    "\n",
    "# 标准化\n",
    "\n",
    "# 定义标准化操作\n",
    "tensor_norm = transforms.Normalize(mean=(0.5, 0.5, 0.5), std=(0.5, 0.5, 0.5))(img_tensor)\n",
    "\n",
    "# 再把标准化后的Tensor转化为图像\n",
    "img_norm = transforms.ToPILImage()(tensor_norm)\n",
    "display(img_norm)"
   ]
  },
  {
   "cell_type": "markdown",
   "id": "73dc6ac1",
   "metadata": {},
   "source": [
    "#### 变换的组合 "
   ]
  },
  {
   "cell_type": "markdown",
   "id": "6112e6f1",
   "metadata": {},
   "source": [
    "前面介绍过的所有操作都可以用 Compose 类组合起来，进行连续操作\n",
    "\n",
    "Compose 类是将多个变换组合到一起，它的定义如下: \n",
    "\n",
    "torchvision.transforms.Compose(transforms)\n",
    "\n",
    "transforms 是一个 Transform 对象的列表，表示要组合的变换列表"
   ]
  },
  {
   "cell_type": "code",
   "execution_count": null,
   "id": "ab68f462",
   "metadata": {},
   "outputs": [],
   "source": [
    "# 分析：需要用到了Resize操作、RandomCrop操作\n",
    "\n",
    "from PIL import Image\n",
    "from torchvision import transforms \n",
    "\n",
    "# 原图\n",
    "orig_img = Image.open('source/jikeshijian_logo.png') \n",
    "display(orig_img)\n",
    "\n",
    "# 定义组合操作\n",
    "composed = transforms.Compose([transforms.Resize((200, 200)),\n",
    "                               transforms.RandomCrop(80)])\n",
    "\n",
    "# 组合操作后的图\n",
    "img = composed(orig_img)\n",
    "display(img)"
   ]
  },
  {
   "cell_type": "markdown",
   "id": "04869b88",
   "metadata": {},
   "source": [
    "#### 综合运用"
   ]
  },
  {
   "cell_type": "code",
   "execution_count": null,
   "id": "1bcfa43f",
   "metadata": {},
   "outputs": [],
   "source": [
    "from torchvision import transforms\n",
    "from torchvision import datasets\n",
    "\n",
    "# 定义一个transform\n",
    "my_transform = transforms.Compose([transforms.ToTensor(),                   # 将读取来的图片数据转成tensor，方便后续直接神经网络学习\n",
    "                                   transforms.Normalize((0.5), (0.5))\n",
    "                                  ])\n",
    "\n",
    "# 读取MNIST数据集 同时做数据变换\n",
    "mnist_dataset = datasets.MNIST(root='./data',\n",
    "                               train=False,\n",
    "                               transform=my_transform,\n",
    "                               target_transform=None,\n",
    "                               download=False)\n",
    "\n",
    "# 查看变换后的数据类型\n",
    "mnist_dataset_list = list(mnist_dataset)\n",
    "print(mnist_dataset_list[0])"
   ]
  },
  {
   "cell_type": "markdown",
   "id": "3da64bcb",
   "metadata": {},
   "source": [
    "## Torchvision中常见的网络模型"
   ]
  },
  {
   "cell_type": "markdown",
   "id": "b6f89422",
   "metadata": {},
   "source": [
    "torchvision.models 模块中包含了常见网络模型结构的定义，这些网络模型可以解决以下四大类问题：图像分类、图像分割、物体检测和视频分类。"
   ]
  },
  {
   "cell_type": "markdown",
   "id": "cafbc14c",
   "metadata": {},
   "source": [
    "### 模型实例化"
   ]
  },
  {
   "cell_type": "code",
   "execution_count": null,
   "id": "9408ef84",
   "metadata": {},
   "outputs": [],
   "source": [
    "import torchvision.models as models                    # 如上文所说，torcchvision常用的经典网络模型在models中\n",
    "googlenet = models.googlenet(pretrained=True)          # 实例化，创建对象（直接导入训练好的模型来使用）\n",
    "# googlenet = models.googlenet()                       # 这样实例化对象得到的仅仅是一个网络结构，里面的参数都是随机初始化的，需要经过训练之后才能使用，并不能直接用于预测。"
   ]
  },
  {
   "cell_type": "markdown",
   "id": "4c4269f1",
   "metadata": {},
   "source": [
    "### 模型微调"
   ]
  },
  {
   "attachments": {
    "image.png": {
     "image/png": "[encoded data removed]"
    }
   },
   "cell_type": "markdown",
   "id": "3001447d",
   "metadata": {},
   "source": [
    "![image.png](attachment:image.png)模型微调：简单来说就是先在一个比较通用、宽泛的数据集上进行大量训练得出了一套参数，然后再使用这套预训练好的网络和参数，在自己的任务和数据集上进行训练。\n",
    "\n",
    "使用经过预训练的模型，要比使用随机初始化的模型训练效果更好，更容易收敛，并且训练速度更快，在小数据集上也能取得比较理想的效果。\n",
    "\n",
    "为什么要进行模型微调：假设你的老板给布置了一个有关于图片分类的任务，数据集是关于狗狗的图片，让你区分图片中狗的种类，例如金毛、柯基、边牧等等。问题是数据集中狗的类别很多，但数据却不多。你发现从零开始训练一个图片分类模型，但这样模型效果很差，并且很容易过拟合。例如上面已经实例化一个 GoogLeNet 模型对象，再给他自己的数据集，重新训练网络最后的分类层，即可实现微调效果。这就是所谓的“fine-tuning”方法。"
   ]
  },
  {
   "cell_type": "code",
   "execution_count": null,
   "id": "7137cde2",
   "metadata": {},
   "outputs": [],
   "source": [
    "import torch\n",
    "import torchvision.models as models\n",
    "\n",
    "# 加载预训练模型\n",
    "googlenet = models.googlenet(pretrained=True)\n",
    "\n",
    "# 打印查看模型全连接层参数\n",
    "fc=googlenet.fc\n",
    "print(fc)\n",
    "\n",
    "# 提取分类层的输入参数\n",
    "fc_in_features = googlenet.fc.in_features\n",
    "print(\"fc_in_features:\", fc_in_features)\n",
    "\n",
    "# 提取分类层的输出参数\n",
    "fc_out_features = googlenet.fc.out_features\n",
    "print(\"fc_out_features:\", fc_out_features)\n",
    "\n",
    "# 修改预训练模型的输出分类数\n",
    "googlenet.fc = torch.nn.Linear(fc_in_features, 10)\n",
    "\n",
    "# 再次打印查看模型全连接层参数\n",
    "fc=googlenet.fc\n",
    "print(fc)"
   ]
  },
  {
   "cell_type": "markdown",
   "id": "ddeb0d22",
   "metadata": {},
   "source": [
    "## torchvision其他常见函数"
   ]
  },
  {
   "cell_type": "markdown",
   "id": "4469de14",
   "metadata": {},
   "source": [
    "### make_grid"
   ]
  },
  {
   "cell_type": "markdown",
   "id": "76083014",
   "metadata": {},
   "source": [
    "作用是将若干幅图像拼成在一个网格中，它的定义如下\n",
    "\n",
    "torchvision.utils.make_grid(tensor, nrow=8, padding=2)\n",
    "\n",
    "* tensor：类型是 Tensor 或列表，如果输入类型是 Tensor，其形状应是 (B x C x H x W)；如果输入类型是列表，列表中元素应为相同大小的图片。\n",
    "* nrow：表示一行放入的图片数量，默认为 8。\n",
    "* padding：子图像与子图像之间的边框宽度，默认为 2 像素"
   ]
  },
  {
   "cell_type": "code",
   "execution_count": null,
   "id": "d691e086",
   "metadata": {},
   "outputs": [],
   "source": [
    "import torchvision\n",
    "from torchvision import datasets\n",
    "from torchvision import transforms\n",
    "from torch.utils.data import DataLoader\n",
    "\n",
    "# 加载MNIST数据集\n",
    "mnist_dataset = datasets.MNIST(root='./data',\n",
    "                               train=False,\n",
    "                               transform=transforms.ToTensor(),         # 加载的图片，此处转为tensor类型\n",
    "                               target_transform=None,\n",
    "                               download=True)\n",
    "# 取32张图片的tensor\n",
    "tensor_dataloader = DataLoader(dataset=mnist_dataset,\n",
    "                               batch_size=32)\n",
    "\n",
    "# 创建迭代器, 每个元素都是32个大小\n",
    "data_iter = iter(tensor_dataloader)\n",
    "img_tensor, label_tensor = data_iter.__next__()\n",
    "print('一捆图片大小:',img_tensor.shape,'一捆图片标签大小:',len(label_tensor))\n",
    "\n",
    "# 将32张图片拼接在一个网格中\n",
    "grid_tensor = torchvision.utils.make_grid(img_tensor, nrow=8, padding=2)\n",
    "grid_img = transforms.ToPILImage()(grid_tensor)   # tensor类型转换为IMG\n",
    "display(grid_img)"
   ]
  },
  {
   "cell_type": "markdown",
   "id": "d62e8579",
   "metadata": {},
   "source": [
    "### save_img"
   ]
  },
  {
   "cell_type": "markdown",
   "id": "20c65073",
   "metadata": {},
   "source": [
    "保存模型输出的图片时，需要将 Tensor 类型的数据转化为图片类型才能进行保存，Torchvision 提供了 save_image 函数，能够直接将 Tensor 保存为图片，即使 Tensor 数据在 CUDA 上，也会自动移到 CPU 中进行保存。\n",
    "\n",
    "torchvision.utils.save_image(tensor, fp, **kwargs)\n",
    "* tensor：类型是 Tensor 或列表，如果输入类型是 Tensor，直接将 Tensor 保存；如果输入类型是列表，内在原理是先调用 make_grid 函数生成一张图片的 Tensor，然后再保存。\n",
    "* fp：保存图片的文件名；\n",
    "* **kwargs：见make_grid 函数中的参数。"
   ]
  },
  {
   "cell_type": "code",
   "execution_count": null,
   "id": "238d715f",
   "metadata": {},
   "outputs": [],
   "source": [
    "# 输入为一张图片的tensor 直接保存\n",
    "torchvision.utils.save_image(grid_tensor, 'grid.jpg')\n",
    "\n",
    "# 输入为List，内部原理是先调用grid_img函数后保存\n",
    "torchvision.utils.save_image(img_tensor, 'grid2.jpg', nrow=5, padding=2)"
   ]
  },
  {
   "cell_type": "markdown",
   "id": "23fc1e39",
   "metadata": {},
   "source": [
    "# 卷积"
   ]
  },
  {
   "cell_type": "markdown",
   "id": "4fe76fd9",
   "metadata": {},
   "source": [
    "卷积同样是先对物体照片进行特征提取，经过监督训练/强化训练后，后面可以识别对应物体（还是特征提取再匹配）\n",
    "\n",
    "**稀疏连接**与**平移不变性**是卷积的两个重要特点：\n",
    "* 稀疏连接：稀疏连接可以让学习的参数变得很少。稀疏连接体现了神经网络每一层的神经元节点只响应前一层局部范围内的神经元的特点，处于深层的网络间接的连接了全部或者大部分的图像。网络第一层里每个神经元的视野是由卷积核大小决定，越往后的网络层中的神经元的视野会越大\n",
    "\n",
    "* 平移不变性：不关心物体出现在图像中什么位置，目标发生了变换,依然可以识别出来"
   ]
  },
  {
   "cell_type": "code",
   "execution_count": null,
   "id": "ac08f8e4",
   "metadata": {},
   "outputs": [],
   "source": [
    "import torch\n",
    "import torch.nn as nn\n",
    "\n",
    "print('001 创建上文例子中的（4，4，1）大小的输入特征图---------------------------------')\n",
    "input_feat = torch.tensor([[4, 1, 7, 5], [4, 4, 2, 5], [7, 7, 2, 4], [1, 0, 2, 4]], dtype=torch.float32).unsqueeze(0).unsqueeze(0)\n",
    "print(input_feat)\n",
    "print(input_feat.shape)\n",
    "\n",
    "print('002 创建2x2卷积核-------------padding 为’same’----------------------------------')\n",
    "conv2d = nn.Conv2d(1, 1, (2, 2), stride=1, padding='same', bias=False)\n",
    "# 默认情况随机初始化参数\n",
    "print(conv2d.weight)\n",
    "print(conv2d.bias)\n",
    "\n",
    "# 为了验证本文中的例子，对卷积核的参数进行干预\n",
    "kernels = torch.tensor([[[[1, 0], [2, 1]]]], dtype=torch.float32)\n",
    "conv2d.weight = nn.Parameter(kernels, requires_grad=False)\n",
    "print(conv2d.weight)\n",
    "print(conv2d.bias)\n",
    "\n",
    "print('003 输出结果--------------------------------------------------------------------')\n",
    "output = conv2d(input_feat)\n",
    "print(output)"
   ]
  },
  {
   "cell_type": "markdown",
   "id": "8a05423a",
   "metadata": {},
   "source": [
    "# 损失函数、计算梯度、优化方法"
   ]
  },
  {
   "cell_type": "markdown",
   "id": "b4928c7b",
   "metadata": {},
   "source": [
    "损失函数是一把衡量模型学习效果的尺子，甚至可以说，训练模型的过程，实际就是优化损失函数值的过程，不断的训练模型调整模型参数，最终能让损失函数值很小并趋于稳定。\n",
    "\n",
    "* 损失函数（loss fuction)--单个样本点的误差\n",
    "\n",
    "* 代价函数（cost function）--所有样本点的误差\n",
    "\n",
    "在实际的应用中，并不会严格区分损失函数和代价函数。只需要知道，损失函数是单个样本点的误差，代价函数是所有样本点的误差。"
   ]
  },
  {
   "cell_type": "code",
   "execution_count": null,
   "id": "864707de",
   "metadata": {},
   "outputs": [],
   "source": [
    "import LeNet #假定我们使用的模型叫做LeNet，首先导入模型的定义类\n",
    "import torch.optim as optim #引入PyTorch自带的可选优化函数\n",
    "\n",
    "# 定义并实列化模型\n",
    "net = LeNet() #声明一个LeNet的实例\n",
    "\n",
    "# 选择合适的损失函数\n",
    "criterion = nn.CrossEntropyLoss() #声明模型的损失函数，使用的是交叉熵损失函数\n",
    "\n",
    "# 选择合适的优化方法（常用梯度优化）\n",
    "optimizer = optim.SGD(net.parameters(), lr=0.001, momentum=0.9)\n",
    "# 声明优化函数，我们使用的就是之前提到的SGD，优化的参数就是LeNet内部的参数，lr即为之前提到的学习率\n",
    "\n",
    "# 下面开始训练\n",
    "for epoch in range(30): #设置要在全部数据上训练的次数\n",
    "    for i, data in enumerate(traindata):\n",
    "        #data就是我们获取的一个batch size大小的数据\n",
    "        inputs, labels = data #分别得到输入的数据及其对应的类别结果\n",
    "\n",
    "        # 首先要通过zero_grad()函数把梯度清零，不然PyTorch每次计算梯度会累加，不清零的话第二次算的梯度等于第一次加第二次的\n",
    "        optimizer.zero_grad()\n",
    "\n",
    "        # 获得模型的输出结果，也即是当前模型学到的效果\n",
    "        outputs = net(inputs)\n",
    "\n",
    "        # 获得输出结果和数据真正类别的损失函数\n",
    "        loss = criterion(outputs, labels)\n",
    "\n",
    "        # 算完loss之后进行反向梯度传播，这个过程之后梯度会记录在变量中\n",
    "        loss.backward()\n",
    "        \n",
    "        # 用计算的梯度去做优化\n",
    "        optimizer.step()"
   ]
  },
  {
   "cell_type": "markdown",
   "id": "d35f24ce",
   "metadata": {},
   "source": [
    "# 一站式构建网络"
   ]
  },
  {
   "cell_type": "markdown",
   "id": "31ae7426",
   "metadata": {},
   "source": [
    "## 训练数据准备"
   ]
  },
  {
   "cell_type": "code",
   "execution_count": null,
   "id": "1053867b",
   "metadata": {},
   "outputs": [],
   "source": [
    "import numpy as np\n",
    "import random\n",
    "from matplotlib import pyplot as plt\n",
    "\n",
    "w = 2\n",
    "b = 3\n",
    "x_train = np.random.randint(low=-10, high=10, size=30)\n",
    "\n",
    "y_target = [w * x + b + random.randint(0,2) for x in x_train]\n",
    "\n",
    "plt.plot(x_train, y_target,'bo')"
   ]
  },
  {
   "cell_type": "markdown",
   "id": "2069447c",
   "metadata": {},
   "source": [
    "## 构建模型"
   ]
  },
  {
   "cell_type": "markdown",
   "id": "d15d301c",
   "metadata": {},
   "source": [
    "### 创建训练数据"
   ]
  },
  {
   "cell_type": "code",
   "execution_count": null,
   "id": "be37683c",
   "metadata": {},
   "outputs": [],
   "source": [
    "# 创建训练数据----------------------------------------------------------------01\n",
    "import numpy as np\n",
    "import random\n",
    "from matplotlib import pyplot as plt\n",
    "\n",
    "w = 2\n",
    "b = 3\n",
    "x_train = np.random.randint(low=-10, high=10, size=30)\n",
    "\n",
    "y_target = [w * x + b + random.randint(0,2) for x in x_train]\n",
    "\n",
    "plt.plot(x_train, y_target,'bo')"
   ]
  },
  {
   "cell_type": "markdown",
   "id": "9cc26f37",
   "metadata": {},
   "source": [
    "### 定义模型"
   ]
  },
  {
   "cell_type": "code",
   "execution_count": null,
   "id": "d2f25b70",
   "metadata": {},
   "outputs": [],
   "source": [
    "#  定义模型结果部分----------------------------------------------------------02\n",
    "import torch\n",
    "from torch import nn\n",
    "\n",
    "class LinearModel(nn.Module):\n",
    "  def __init__(self):                            # 模型的参数放在初始化中进行生成\n",
    "    super().__init__()\n",
    "    self.weight = nn.Parameter(torch.randn(1))\n",
    "    self.bias = nn.Parameter(torch.randn(1))\n",
    "\n",
    "  def forward(self, input):                      # 模型的计算/卷积，是在前向传播方法中实现\n",
    "    return (input * self.weight) + self.bias"
   ]
  },
  {
   "cell_type": "markdown",
   "id": "21d43315",
   "metadata": {},
   "source": [
    "步骤：\n",
    "* 必须继承 nn.Module 类。\n",
    "* nn.Module 是所有神经网络模块的基类。当咱们自己要设计一个网络结构的时候，就要继承该类。因为这个类还有很多方法，直接继承即可，不用重写（比如这里面重写了正向传播，还有反向传播就没重写）。其实 Torchvison 中的那些模型，也都是通过继承 nn.Module 模块来构建网络模型的。\n",
    "* 重写 __init__() 方法。必须调用父类的构造方法才可以。通常来说要把有需要学习的参数的层放到构造函数中，例如，例子中的 weight 与 bias，还有之前学习的卷积层初始化。 __init__() 中使用了 nn.Parameter()，它主要的作用就是作为 nn.Module 中可训练的参数使用。\n",
    "* forward() 是必须重写的方法。看函数名也可以知道，它是用来定义这个模型是如何计算输出的，也就是前向传播。这个例子，就是获得最终输出 y=weight * x+bias 的计算结果。对于一些不需要学习参数的层，一般来说可以放在这里。\n",
    "* 需要注意的是，模块本身是 callable 的，当调用它的时候，就是执行 forward 函数，也就是前向传播。"
   ]
  },
  {
   "cell_type": "markdown",
   "id": "332a8315",
   "metadata": {},
   "source": [
    "序列化构建"
   ]
  },
  {
   "cell_type": "code",
   "execution_count": null,
   "id": "4fc1a53a",
   "metadata": {},
   "outputs": [],
   "source": [
    "from torch import nn\n",
    "net = nn.Sequential(nn.Linear(5, 3),nn.Linear(3,2))\n",
    "print(net)"
   ]
  },
  {
   "cell_type": "markdown",
   "id": "83884afa",
   "metadata": {},
   "source": [
    "### 实例化模型并训练"
   ]
  },
  {
   "cell_type": "code",
   "execution_count": null,
   "id": "1b79f803",
   "metadata": {},
   "outputs": [],
   "source": [
    "# 实列化模型对象------------------------------------------------------------03\n",
    "model = LinearModel()\n",
    "\n",
    "# 打印初始模型参数\n",
    "print('---Before training---')\n",
    "for parameter in model.named_parameters(): \n",
    "    print(parameter)\n",
    "\n",
    "# 定义好损失函数-----------------------------------------------------------04\n",
    "loss_Function=nn.MSELoss()  # 实列化一个损失函数\n",
    "\n",
    "# 定义优化方法-------------------------------------------------------------05\n",
    "optimizer = torch.optim.SGD(model.parameters(), lr=1e-4, weight_decay=1e-2, momentum=0.9)\n",
    "\n",
    "# 模型训练部分-------------------------------------------------------------06\n",
    "y_train = torch.tensor(y_target, dtype=torch.float32)\n",
    "\n",
    "for _ in range(1000):\n",
    "    input = torch.from_numpy(x_train)\n",
    "    output = model(input)\n",
    "    loss = nn.MSELoss()(output, y_train)\n",
    "    model.zero_grad()   # 每次反向传播前，要记得提取清零\n",
    "    loss.backward()\n",
    "    optimizer.step()\n",
    "    \n",
    "# 训练结束后，打印模型参数\n",
    "print('---After training---')\n",
    "for parameter in model.named_parameters(): \n",
    "    print(parameter)\n",
    "\n",
    "print('---Another way to show parameters---')\n",
    "print(model.state_dict())"
   ]
  },
  {
   "cell_type": "markdown",
   "id": "4cfd535d",
   "metadata": {},
   "source": [
    "### 模型保存"
   ]
  },
  {
   "cell_type": "markdown",
   "id": "240d20c8",
   "metadata": {},
   "source": [
    "**仅保存网络参数**"
   ]
  },
  {
   "cell_type": "code",
   "execution_count": null,
   "id": "b2e2e7a9",
   "metadata": {},
   "outputs": [],
   "source": [
    "# 模型保存\n",
    "# 仅保存网络参数\n",
    "torch.save(model.state_dict(), './selfModel/linear_model.pth')"
   ]
  },
  {
   "cell_type": "markdown",
   "id": "db700373",
   "metadata": {},
   "source": [
    "**保存网络结构和参数**"
   ]
  },
  {
   "cell_type": "code",
   "execution_count": null,
   "id": "aa265de4",
   "metadata": {},
   "outputs": [],
   "source": [
    "# 保存网络结构和参数\n",
    "torch.save(model, './selfModel/linear_model_with_arc.pth')"
   ]
  },
  {
   "cell_type": "markdown",
   "id": "582efc06",
   "metadata": {},
   "source": [
    "### 模型加载"
   ]
  },
  {
   "cell_type": "markdown",
   "id": "c4820f75",
   "metadata": {},
   "source": [
    "**读取网络参数**"
   ]
  },
  {
   "cell_type": "code",
   "execution_count": null,
   "id": "31592167",
   "metadata": {},
   "outputs": [],
   "source": [
    "import torch\n",
    "# 自定义的网络模型/torchvision提供的网络模型\n",
    "\n",
    "# 先实例化定义好的网络结构\n",
    "linear_model = LinearModel()\n",
    "\n",
    "# 加载保存的参数\n",
    "linear_model.load_state_dict(torch.load('./selfModel/linear_model.pth'))\n",
    "\n",
    "# 因为有些层（例如，Dropout 与 BN）在训练时与评估时的状态是不一样的，当进入评估时要执行 model.eval()，模型才能进入评估状态\n",
    "linear_model.eval()\n",
    "\n",
    "# 查看参数是否加载过来\n",
    "print(linear_model.state_dict())"
   ]
  },
  {
   "cell_type": "markdown",
   "id": "f6eb3a7a",
   "metadata": {},
   "source": [
    "**读取网络结构和参数**"
   ]
  },
  {
   "cell_type": "code",
   "execution_count": null,
   "id": "bf624bee",
   "metadata": {},
   "outputs": [],
   "source": [
    "# # 保存整个模型\n",
    "# torch.save(model, './selfModel/linear_model_with_arc.pth')\n",
    "\n",
    "# 加载模型，不需要创建网络了\n",
    "linear_model_2 = torch.load('./selfModel/linear_model_with_arc.pth')\n",
    "linear_model_2.eval()\n",
    "\n",
    "# 查看参数是否加载过来\n",
    "print(linear_model.state_dict())"
   ]
  },
  {
   "cell_type": "markdown",
   "id": "af0fd1ed",
   "metadata": {},
   "source": [
    "## 使用torchvision中封装的经典模型进行训练"
   ]
  },
  {
   "cell_type": "markdown",
   "id": "fdaad0fe",
   "metadata": {},
   "source": [
    "### 训练数据准备"
   ]
  },
  {
   "cell_type": "code",
   "execution_count": null,
   "id": "6f0f3aa8",
   "metadata": {},
   "outputs": [],
   "source": [
    "import torch\n",
    "import torchvision\n",
    "from torchvision import transforms \n",
    "from torch.utils.data import DataLoader\n",
    "\n",
    "# 先定义好数据处理/增加模型：裁剪、图片转成tensor、标准化\n",
    "transform = transforms.Compose([\n",
    "    transforms.RandomResizedCrop((224,224)),\n",
    "    transforms.ToTensor(),\n",
    "    transforms.Normalize(mean=[0.485, 0.456, 0.406], std=[0.229, 0.224, 0.225])\n",
    "    ])\n",
    "\n",
    "# 读取数据\n",
    "cifar10_dataset = torchvision.datasets.CIFAR10(root='./data',\n",
    "                                       train=False,\n",
    "                                       transform=transform,\n",
    "                                       target_transform=None,\n",
    "                                       download=True)\n",
    "\n",
    "# 批加载\n",
    "dataloader = DataLoader(dataset=cifar10_dataset, # 传入的数据集, 必须参数\n",
    "                               batch_size=32,       # 输出的batch大小\n",
    "                               shuffle=True,       # 数据是否打乱\n",
    "                               num_workers=2)      # 进程数, 0表示只有主进程"
   ]
  },
  {
   "cell_type": "markdown",
   "id": "8d56754f",
   "metadata": {},
   "source": [
    "### 验证数据集内容"
   ]
  },
  {
   "cell_type": "code",
   "execution_count": null,
   "id": "040d0d9f",
   "metadata": {},
   "outputs": [],
   "source": [
    "cifar10_dataset = torchvision.datasets.CIFAR10(root='./data',\n",
    "                                       train=False,\n",
    "                                       transform=transforms.ToTensor(),\n",
    "                                       target_transform=None,\n",
    "                                       download=True)\n",
    "# 取32张图片的tensor\n",
    "tensor_dataloader = DataLoader(dataset=cifar10_dataset,\n",
    "                               batch_size=32)\n",
    "\n",
    "# 使用迭代器，一次取一个，1个是32个大小\n",
    "data_iter = iter(tensor_dataloader)\n",
    "img_tensor, label_tensor = data_iter.__next__()\n",
    "\n",
    "# 打印输出\n",
    "print(img_tensor.shape)\n",
    "grid_tensor = torchvision.utils.make_grid(img_tensor, nrow=16, padding=2)\n",
    "grid_img = transforms.ToPILImage()(grid_tensor)\n",
    "display(grid_img)"
   ]
  },
  {
   "cell_type": "markdown",
   "id": "c101a878",
   "metadata": {},
   "source": [
    "### 模型训练"
   ]
  },
  {
   "cell_type": "code",
   "execution_count": 17,
   "id": "aefe3627",
   "metadata": {},
   "outputs": [
    {
     "name": "stdout",
     "output_type": "stream",
     "text": [
      "Epoch 1, Loss 1.2363594770431519,第311个batch\n",
      "Epoch 1, Loss 1.1440852880477905,第312个batch\n",
      "Epoch 1, Loss 1.5977140665054321,第313个batch\n"
     ]
    }
   ],
   "source": [
    "import torch\n",
    "import torchvision\n",
    "from torchvision import transforms \n",
    "from torch.utils.data import DataLoader\n",
    "from torch import nn\n",
    "\n",
    "# 数据准备---------------------------------------------------------------------------------01\n",
    "# 先定义好数据处理/增加模型：裁剪、图片转成tensor、标准化\n",
    "transform = transforms.Compose([\n",
    "    transforms.RandomResizedCrop((224,224)),\n",
    "    transforms.ToTensor(),\n",
    "    transforms.Normalize(mean=[0.485, 0.456, 0.406], std=[0.229, 0.224, 0.225])\n",
    "    ])\n",
    "\n",
    "# 读取数据\n",
    "cifar10_dataset = torchvision.datasets.CIFAR10(root='./data',\n",
    "                                       train=False,\n",
    "                                       transform=transform,\n",
    "                                       target_transform=None,\n",
    "                                       download=True)\n",
    "\n",
    "# 批加载\n",
    "dataloader = DataLoader(dataset=cifar10_dataset, # 传入的数据集, 必须参数\n",
    "                               batch_size=32,       # 输出的batch大小\n",
    "                               shuffle=True,       # 数据是否打乱\n",
    "                               num_workers=2)      # 进程数, 0表示只有主进程\n",
    "\n",
    "# 模型设计加载------------------------------------------------------------------------------02\n",
    "import torchvision.models as models\n",
    "alexnet = models.alexnet(pretrained=True)\n",
    "\n",
    "# 模型微调---------------------------------------------------------------------------------03\n",
    "# 提取分类层的输入参数\n",
    "fc_in_features = alexnet.classifier[6].in_features\n",
    "\n",
    "# 修改预训练模型的输出分类数\n",
    "alexnet.classifier[6] = torch.nn.Linear(fc_in_features, 10)\n",
    "\n",
    "\n",
    "# 损失函数选择-----------------------------------------------------------------------------04\n",
    "loss_Function=nn.CrossEntropyLoss()  # 实列化一个损失函数\n",
    "\n",
    "# 优化方法选择-----------------------------------------------------------------------------05\n",
    "optimizer = torch.optim.SGD(alexnet.parameters(), lr=1e-4, weight_decay=1e-2, momentum=0.9)\n",
    "\n",
    "# 正式数据带入训练-------------------------------------------------------------------------06\n",
    "\n",
    "# 训练1个Epoch,全量数据要搞1次数循环训练,次数太多，耗费时间太长\n",
    "count=0\n",
    "for epoch in range(1):  \n",
    "    for i_dataloader in dataloader:    # dataloader其实就是一个列表，每个元素32个大小，（10000/32=313）个  i_dataloader      \n",
    "        img_input_list=i_dataloader[0]\n",
    "        img_target_list = i_dataloader[1]\n",
    "        # print(img_target)\n",
    "        output_list=alexnet(img_input_list)\n",
    "        count=count+1\n",
    "        \n",
    "        # 使用交叉熵损失函数\n",
    "        loss = nn.CrossEntropyLoss()(output_list, img_target_list)\n",
    "        print('Epoch {}, Loss {},第{}个batch'.format(epoch + 1 , loss,count))\n",
    "        \n",
    "        #每次反向传播前梯度清零\n",
    "        alexnet.zero_grad()\n",
    "        \n",
    "        # 反向传播\n",
    "        loss.backward()\n",
    "        \n",
    "        # 优化\n",
    "        optimizer.step()"
   ]
  },
  {
   "cell_type": "markdown",
   "id": "a899154e",
   "metadata": {},
   "source": [
    "# 可视化工具"
   ]
  },
  {
   "cell_type": "markdown",
   "id": "def39c85",
   "metadata": {},
   "source": [
    "## TensorboardX"
   ]
  },
  {
   "cell_type": "markdown",
   "id": "09b8bd76",
   "metadata": {},
   "source": [
    "需要创建一个 SummaryWriter 的实例，然后再使用add_scalar方法或add_image方法，将数字或图片记录到 SummaryWriter 实例中\n",
    "在浏览器中输入：http://localhost:6006/"
   ]
  },
  {
   "cell_type": "code",
   "execution_count": 1,
   "id": "466a9d12",
   "metadata": {},
   "outputs": [
    {
     "name": "stdout",
     "output_type": "stream",
     "text": [
      "Requirement already satisfied: tensorboard in d:\\users\\huawei\\anaconda3\\lib\\site-packages (2.16.2)\n",
      "Requirement already satisfied: tensorboard-data-server<0.8.0,>=0.7.0 in d:\\users\\huawei\\anaconda3\\lib\\site-packages (from tensorboard) (0.7.2)\n",
      "Requirement already satisfied: protobuf!=4.24.0,>=3.19.6 in d:\\users\\huawei\\anaconda3\\lib\\site-packages (from tensorboard) (5.26.1)\n",
      "Requirement already satisfied: six>1.9 in d:\\users\\huawei\\anaconda3\\lib\\site-packages (from tensorboard) (1.16.0)\n",
      "Requirement already satisfied: absl-py>=0.4 in d:\\users\\huawei\\anaconda3\\lib\\site-packages (from tensorboard) (2.1.0)\n",
      "Requirement already satisfied: grpcio>=1.48.2 in d:\\users\\huawei\\anaconda3\\lib\\site-packages (from tensorboard) (1.63.0)\n",
      "Requirement already satisfied: numpy>=1.12.0 in d:\\users\\huawei\\anaconda3\\lib\\site-packages (from tensorboard) (1.23.5)\n",
      "Requirement already satisfied: setuptools>=41.0.0 in d:\\users\\huawei\\anaconda3\\lib\\site-packages (from tensorboard) (65.6.3)\n",
      "Requirement already satisfied: werkzeug>=1.0.1 in d:\\users\\huawei\\anaconda3\\lib\\site-packages (from tensorboard) (2.2.2)\n",
      "Requirement already satisfied: markdown>=2.6.8 in d:\\users\\huawei\\anaconda3\\lib\\site-packages (from tensorboard) (3.4.1)\n",
      "Requirement already satisfied: MarkupSafe>=2.1.1 in d:\\users\\huawei\\anaconda3\\lib\\site-packages (from werkzeug>=1.0.1->tensorboard) (2.1.1)\n"
     ]
    }
   ],
   "source": [
    "!pip install tensorboard"
   ]
  },
  {
   "cell_type": "code",
   "execution_count": 19,
   "id": "fbeeb079",
   "metadata": {},
   "outputs": [
    {
     "ename": "ModuleNotFoundError",
     "evalue": "No module named 'tensorboard'",
     "output_type": "error",
     "traceback": [
      "\u001b[1;31m---------------------------------------------------------------------------\u001b[0m",
      "\u001b[1;31mModuleNotFoundError\u001b[0m                       Traceback (most recent call last)",
      "Cell \u001b[1;32mIn[19], line 1\u001b[0m\n\u001b[1;32m----> 1\u001b[0m \u001b[38;5;28;01mfrom\u001b[39;00m \u001b[38;5;21;01mtorch\u001b[39;00m\u001b[38;5;21;01m.\u001b[39;00m\u001b[38;5;21;01mutils\u001b[39;00m\u001b[38;5;21;01m.\u001b[39;00m\u001b[38;5;21;01mtensorboard\u001b[39;00m \u001b[38;5;28;01mimport\u001b[39;00m SummaryWriter\n\u001b[0;32m      2\u001b[0m \u001b[38;5;28;01mimport\u001b[39;00m \u001b[38;5;21;01mnumpy\u001b[39;00m \u001b[38;5;28;01mas\u001b[39;00m \u001b[38;5;21;01mnp\u001b[39;00m\n\u001b[0;32m      4\u001b[0m \u001b[38;5;66;03m# 创建一个SummaryWriter的实例\u001b[39;00m\n",
      "File \u001b[1;32md:\\Users\\HUAWEI\\anaconda3\\envs\\rl\\lib\\site-packages\\torch\\utils\\tensorboard\\__init__.py:1\u001b[0m\n\u001b[1;32m----> 1\u001b[0m \u001b[38;5;28;01mimport\u001b[39;00m \u001b[38;5;21;01mtensorboard\u001b[39;00m\n\u001b[0;32m      2\u001b[0m \u001b[38;5;28;01mfrom\u001b[39;00m \u001b[38;5;21;01mdistutils\u001b[39;00m\u001b[38;5;21;01m.\u001b[39;00m\u001b[38;5;21;01mversion\u001b[39;00m \u001b[38;5;28;01mimport\u001b[39;00m LooseVersion\n\u001b[0;32m      4\u001b[0m \u001b[38;5;28;01mif\u001b[39;00m \u001b[38;5;129;01mnot\u001b[39;00m \u001b[38;5;28mhasattr\u001b[39m(tensorboard, \u001b[38;5;124m\"\u001b[39m\u001b[38;5;124m__version__\u001b[39m\u001b[38;5;124m\"\u001b[39m) \u001b[38;5;129;01mor\u001b[39;00m LooseVersion(\n\u001b[0;32m      5\u001b[0m     tensorboard\u001b[38;5;241m.\u001b[39m__version__\n\u001b[0;32m      6\u001b[0m ) \u001b[38;5;241m<\u001b[39m LooseVersion(\u001b[38;5;124m\"\u001b[39m\u001b[38;5;124m1.15\u001b[39m\u001b[38;5;124m\"\u001b[39m):\n",
      "\u001b[1;31mModuleNotFoundError\u001b[0m: No module named 'tensorboard'"
     ]
    }
   ],
   "source": [
    "from torch.utils.tensorboard import SummaryWriter\n",
    "import numpy as np\n",
    "\n",
    "# 创建一个SummaryWriter的实例\n",
    "writer = SummaryWriter()\n",
    "\n",
    "# 使用add_scalar方法\n",
    "for n_iter in range(100):\n",
    "    writer.add_scalar('Loss/train', np.random.random(), n_iter)       # 自定义名称Loss/train,并可视化监控\n",
    "    writer.add_scalar('Loss/test', np.random.random(), n_iter)\n",
    "    writer.add_scalar('Accuracy/train', np.random.random(), n_iter)\n",
    "    writer.add_scalar('Accuracy/test', np.random.random(), n_iter)\n",
    "\n",
    "    \n",
    "# 使用add_image方法    \n",
    "# 构建一个100*100，3通道的img数据    \n",
    "img = np.zeros((3, 100, 100))\n",
    "img[0] = np.arange(0, 10000).reshape(100, 100) / 10000\n",
    "img[1] = 1 - np.arange(0, 10000).reshape(100, 100) / 10000\n",
    "\n",
    "writer.add_image('my_image', img, 0)\n",
    "\n",
    "writer.close()"
   ]
  },
  {
   "cell_type": "markdown",
   "id": "042cd18c",
   "metadata": {},
   "source": [
    "模型训练实例"
   ]
  },
  {
   "cell_type": "code",
   "execution_count": null,
   "id": "f392d79b",
   "metadata": {},
   "outputs": [],
   "source": [
    "import numpy as np\n",
    "import random\n",
    "from matplotlib import pyplot as plt\n",
    "\n",
    "# 创建训练数据----------------------------------------------------------------01\n",
    "w = 2\n",
    "b = 3\n",
    "x_train = np.random.randint(low=-10, high=10, size=30)\n",
    "y_target = [w * x + b + random.randint(0,2) for x in x_train]\n",
    "# plt.plot(x_train, y_target,'bo')\n",
    "\n",
    "\n",
    "#  定义模型结果部分----------------------------------------------------------02\n",
    "import torch\n",
    "from torch import nn\n",
    "class LinearModel(nn.Module):\n",
    "  def __init__(self):                            # 模型的参数放在初始化中进行生成\n",
    "    super().__init__()\n",
    "    self.weight = nn.Parameter(torch.randn(1))\n",
    "    self.bias = nn.Parameter(torch.randn(1))\n",
    "\n",
    "  def forward(self, input):                      # 模型的计算/卷积，是在前向传播方法中实现\n",
    "    return (input * self.weight) + self.bias\n",
    "\n",
    "\n",
    "# 实列化模型对象------------------------------------------------------------03\n",
    "model = LinearModel()\n",
    "\n",
    "\n",
    "# 定义好损失函数-----------------------------------------------------------04\n",
    "loss_Function=nn.MSELoss()  # 实列化一个损失函数\n",
    "\n",
    "# 定义优化方法-------------------------------------------------------------05\n",
    "optimizer = torch.optim.SGD(model.parameters(), lr=1e-4, weight_decay=1e-2, momentum=0.9)\n",
    "\n",
    "\n",
    "# 模型训练部分-------------------------------------------------------------06\n",
    "# 实例化TensorboardX-writer\n",
    "from torch.utils.tensorboard import SummaryWriter\n",
    "writer = SummaryWriter()\n",
    "\n",
    "y_train = torch.tensor(y_target, dtype=torch.float32)\n",
    "\n",
    "for i_step in range(1000):\n",
    "    input = torch.from_numpy(x_train)\n",
    "    output = model(input)\n",
    "    loss = nn.MSELoss()(output, y_train)\n",
    "    model.zero_grad()   # 每次反向传播前，要记得提取清零\n",
    "    loss.backward()\n",
    "    optimizer.step()\n",
    "    \n",
    "    writer.add_scalar('Loss/train', loss, i_step )   # 调用可视化方法"
   ]
  },
  {
   "cell_type": "markdown",
   "id": "57497b30",
   "metadata": {},
   "source": [
    "## Visdom"
   ]
  },
  {
   "cell_type": "markdown",
   "id": "e1d4d747",
   "metadata": {},
   "source": [
    "启动成功后，在浏览器中输入“http://127.0.0.1:8097/”，进入 Visdom 的主界面"
   ]
  },
  {
   "cell_type": "code",
   "execution_count": 2,
   "id": "277946a9",
   "metadata": {},
   "outputs": [
    {
     "name": "stdout",
     "output_type": "stream",
     "text": [
      "Collecting visdom\n",
      "  Downloading visdom-0.2.4.tar.gz (1.4 MB)\n",
      "     ---------------------------------------- 1.4/1.4 MB 19.6 kB/s eta 0:00:00\n",
      "  Preparing metadata (setup.py): started\n",
      "  Preparing metadata (setup.py): finished with status 'done'\n",
      "Requirement already satisfied: numpy>=1.8 in d:\\users\\huawei\\anaconda3\\lib\\site-packages (from visdom) (1.23.5)\n",
      "Requirement already satisfied: scipy in d:\\users\\huawei\\anaconda3\\lib\\site-packages (from visdom) (1.10.0)\n",
      "Requirement already satisfied: requests in d:\\users\\huawei\\anaconda3\\lib\\site-packages (from visdom) (2.28.1)\n",
      "Requirement already satisfied: tornado in d:\\users\\huawei\\anaconda3\\lib\\site-packages (from visdom) (6.1)\n",
      "Requirement already satisfied: six in d:\\users\\huawei\\anaconda3\\lib\\site-packages (from visdom) (1.16.0)\n",
      "Requirement already satisfied: jsonpatch in d:\\users\\huawei\\anaconda3\\lib\\site-packages (from visdom) (1.32)\n",
      "Requirement already satisfied: websocket-client in d:\\users\\huawei\\anaconda3\\lib\\site-packages (from visdom) (0.58.0)\n",
      "Requirement already satisfied: networkx in d:\\users\\huawei\\anaconda3\\lib\\site-packages (from visdom) (2.8.4)\n",
      "Requirement already satisfied: pillow in d:\\users\\huawei\\anaconda3\\lib\\site-packages (from visdom) (9.4.0)\n",
      "Requirement already satisfied: jsonpointer>=1.9 in d:\\users\\huawei\\anaconda3\\lib\\site-packages (from jsonpatch->visdom) (2.1)\n",
      "Requirement already satisfied: idna<4,>=2.5 in d:\\users\\huawei\\anaconda3\\lib\\site-packages (from requests->visdom) (3.4)\n",
      "Requirement already satisfied: urllib3<1.27,>=1.21.1 in d:\\users\\huawei\\anaconda3\\lib\\site-packages (from requests->visdom) (1.26.14)\n",
      "Requirement already satisfied: charset-normalizer<3,>=2 in d:\\users\\huawei\\anaconda3\\lib\\site-packages (from requests->visdom) (2.0.4)\n",
      "Requirement already satisfied: certifi>=2017.4.17 in d:\\users\\huawei\\anaconda3\\lib\\site-packages (from requests->visdom) (2024.2.2)\n",
      "Building wheels for collected packages: visdom\n",
      "  Building wheel for visdom (setup.py): started\n",
      "  Building wheel for visdom (setup.py): finished with status 'done'\n",
      "  Created wheel for visdom: filename=visdom-0.2.4-py3-none-any.whl size=1408312 sha256=9214068f05275e0aec8541d836c9065a9a32f44ddd6534a80052c3b71f840831\n",
      "  Stored in directory: c:\\users\\huawei\\appdata\\local\\pip\\cache\\wheels\\d7\\94\\e8\\9e718f98bc717d1e6530d59d46e23996cc60cf2a28f1937ed4\n",
      "Successfully built visdom\n",
      "Installing collected packages: visdom\n",
      "Successfully installed visdom-0.2.4\n"
     ]
    }
   ],
   "source": [
    "!pip install visdom"
   ]
  },
  {
   "cell_type": "code",
   "execution_count": null,
   "id": "61e110ae",
   "metadata": {},
   "outputs": [],
   "source": [
    "from visdom import Visdom\n",
    "import numpy as np\n",
    "import time\n",
    "\n",
    "# 第一步：将窗口类实例化\n",
    "viz = Visdom() \n",
    "\n",
    "# 第二步：创建窗口并初始化\n",
    "viz.line([0.], [0], win='train_loss', opts=dict(title='train_loss'))\n",
    "\n",
    "for n_iter in range(10):\n",
    "    # 随机获取loss值\n",
    "    loss = 0.2 * np.random.randn() + 1\n",
    "    \n",
    "    # 第三步：监听，并更新窗口图像\n",
    "    viz.line([loss], [n_iter], win='train_loss', update='append')  # win 窗口名称\n",
    "    time.sleep(0.5)\n",
    "\n",
    "# 同步：图像的更新  100*100 3通道\n",
    "img = np.zeros((3, 100, 100))\n",
    "img[0] = np.arange(0, 10000).reshape(100, 100) / 10000\n",
    "img[1] = 1 - np.arange(0, 10000).reshape(100, 100) / 10000\n",
    "\n",
    "# 可视化图像\n",
    "viz.image(img)"
   ]
  }
 ],
 "metadata": {
  "kernelspec": {
   "display_name": "nb rl",
   "language": "python",
   "name": "rl"
  },
  "language_info": {
   "codemirror_mode": {
    "name": "ipython",
    "version": 3
   },
   "file_extension": ".py",
   "mimetype": "text/x-python",
   "name": "python",
   "nbconvert_exporter": "python",
   "pygments_lexer": "ipython3",
   "version": "3.10.11"
  }
 },
 "nbformat": 4,
 "nbformat_minor": 5
}
